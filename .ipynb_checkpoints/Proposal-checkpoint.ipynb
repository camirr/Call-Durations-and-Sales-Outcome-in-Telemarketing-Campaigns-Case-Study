{
 "cells": [
  {
   "cell_type": "markdown",
   "id": "ddac4da5-c288-4ac5-9188-7e07672ec133",
   "metadata": {},
   "source": [
    "# Estimating the Difference Between the Means of Successful Outcomes and Failures"
   ]
  },
  {
   "cell_type": "markdown",
   "id": "822c5c72-fab9-46be-8aa4-0a523fac1b1e",
   "metadata": {},
   "source": [
    "Group member: Eun Ji Hwang, Daniel Dai, Camilla Ren, Rachel Yang"
   ]
  },
  {
   "cell_type": "markdown",
   "id": "d917d2ad-6840-4c3a-97b5-8cc5eac7a64b",
   "metadata": {},
   "source": [
    "## Table of content"
   ]
  },
  {
   "cell_type": "markdown",
   "id": "f79b1248-cd80-4c2d-bc36-7a75671ad087",
   "metadata": {
    "tags": []
   },
   "source": [
    "### Index: \n",
    "1.[Introduction](#Introduction)  \n",
    "2.[Preliminary Results](#Preliminary-Results)   \n",
    "3.[Methods](#Methods)   \n",
    "4.[Reference](#Reference)\n"
   ]
  },
  {
   "cell_type": "markdown",
   "id": "41ef50a3-56d2-43b4-a9c1-4d589b3b3866",
   "metadata": {},
   "source": [
    "## <img src=\"https://th.bing.com/th/id/R.3849382c629e1a734ac29d79a0656ea2?rik=A6LFA%2bGN%2b07q9Q&riu=http%3a%2f%2fwww.pngmart.com%2ffiles%2f1%2fPhone.png&ehk=DewsIHJL6yqq69NhIyBSqo6A%2fEnade%2boWXdZCaNB03g%3d&risl=&pid=ImgRaw&r=0\" width=30> Introduction"
   ]
  },
  {
   "cell_type": "markdown",
   "id": "fdc696b4-f0fc-46dc-9255-4634c0003a26",
   "metadata": {},
   "source": [
    "### Background:\n",
    "Marketing sales campaigns are a typical strategy used by companies to grow their business. In particular, telemarketing conducted remotely has enabled marketing to optimize customer lifetime value by evaluating available information and metrics, hence allowing the company to build longer and tighter relationships in alignment with business demand.\n",
    "\n",
    "<img src=\"https://th.bing.com/th/id/R.8c8656b19cf1e229b4d8154de1b2f8b6?rik=BWfEliq15MzvBQ&riu=http%3a%2f%2fwww.pollenmidwest.org%2fwp-content%2fuploads%2f2017%2f04%2fbanking2.gif&ehk=CRhvAOpg%2bzexGRo8tdAQsWMixVUj8xnxdDQxQx%2bU%2fmM%3d&risl=&pid=ImgRaw&r=0\" width=500>\n"
   ]
  },
  {
   "cell_type": "markdown",
   "id": "3a880603-4d03-4b0c-b672-b0a6e8ae3b41",
   "metadata": {},
   "source": [
    "### Our Dataset:\n",
    "The selected data refer to telemarketing campaigns of a Portuguese banking institution, where the campaigns were based on phone calls. Each record contains information about a bank customer (e.g., age), information about the last contact of the current campaign (e.g., contact duration), other attributes (e.g., three-month Euribor), and the contact outcome (\"success\" or \"failure\"). \n"
   ]
  },
  {
   "cell_type": "markdown",
   "id": "7ee46c29-b7c3-410b-95c1-82ddbb348c48",
   "metadata": {},
   "source": [
    "### Our Question:\n",
    "Previous study has shown that the duration of previous calls were the one of the most relevant attributes that determine the contact outcome. The duration of previous contact refers to the call duration that needed to be rescheduled to obtain a final answer by the client. Values of call duration were recorded in the column named “duration” in the choses dataset. \n",
    "\n",
    "Thus, in this analysis, we are interested in the difference in the mean values of call durations for successful outcomes and failures. Since the sample distributions of the call durations of both successful and failed outcomes are left skewed. The IQR is calculated to indicate the shape and spread of the distribution of the mean difference."
   ]
  },
  {
   "cell_type": "markdown",
   "id": "230d7846-4b05-40e5-8d9a-ed6b7172fdeb",
   "metadata": {},
   "source": [
    "## <img src=\"https://th.bing.com/th/id/R.3849382c629e1a734ac29d79a0656ea2?rik=A6LFA%2bGN%2b07q9Q&riu=http%3a%2f%2fwww.pngmart.com%2ffiles%2f1%2fPhone.png&ehk=DewsIHJL6yqq69NhIyBSqo6A%2fEnade%2boWXdZCaNB03g%3d&risl=&pid=ImgRaw&r=0\" width=30>Preliminary Results"
   ]
  },
  {
   "cell_type": "code",
   "execution_count": 1,
   "id": "b56cd6b4-1f58-4934-9efe-8bd249b3c43e",
   "metadata": {},
   "outputs": [
    {
     "name": "stderr",
     "output_type": "stream",
     "text": [
      "── \u001b[1mAttaching packages\u001b[22m ─────────────────────────────────────── tidyverse 1.3.0 ──\n",
      "\n",
      "\u001b[32m✔\u001b[39m \u001b[34mggplot2\u001b[39m 3.3.6     \u001b[32m✔\u001b[39m \u001b[34mpurrr  \u001b[39m 0.3.4\n",
      "\u001b[32m✔\u001b[39m \u001b[34mtibble \u001b[39m 3.1.7     \u001b[32m✔\u001b[39m \u001b[34mdplyr  \u001b[39m 1.0.9\n",
      "\u001b[32m✔\u001b[39m \u001b[34mtidyr  \u001b[39m 1.2.0     \u001b[32m✔\u001b[39m \u001b[34mstringr\u001b[39m 1.4.0\n",
      "\u001b[32m✔\u001b[39m \u001b[34mreadr  \u001b[39m 2.1.2     \u001b[32m✔\u001b[39m \u001b[34mforcats\u001b[39m 0.5.1\n",
      "\n",
      "── \u001b[1mConflicts\u001b[22m ────────────────────────────────────────── tidyverse_conflicts() ──\n",
      "\u001b[31m✖\u001b[39m \u001b[34mdplyr\u001b[39m::\u001b[32mfilter()\u001b[39m masks \u001b[34mstats\u001b[39m::filter()\n",
      "\u001b[31m✖\u001b[39m \u001b[34mdplyr\u001b[39m::\u001b[32mlag()\u001b[39m    masks \u001b[34mstats\u001b[39m::lag()\n",
      "\n",
      "Registered S3 method overwritten by 'GGally':\n",
      "  method from   \n",
      "  +.gg   ggplot2\n",
      "\n",
      "\n",
      "Attaching package: ‘gridExtra’\n",
      "\n",
      "\n",
      "The following object is masked from ‘package:dplyr’:\n",
      "\n",
      "    combine\n",
      "\n",
      "\n"
     ]
    }
   ],
   "source": [
    "# Load package\n",
    "library(tidyverse)\n",
    "library(GGally)\n",
    "library(infer)\n",
    "library(gridExtra)"
   ]
  },
  {
   "cell_type": "code",
   "execution_count": 2,
   "id": "04b5ec35-e4b8-4b6a-bac5-29c4d5300455",
   "metadata": {},
   "outputs": [
    {
     "name": "stderr",
     "output_type": "stream",
     "text": [
      "\u001b[1mRows: \u001b[22m\u001b[34m41188\u001b[39m \u001b[1mColumns: \u001b[22m\u001b[34m21\u001b[39m\n",
      "\u001b[36m──\u001b[39m \u001b[1mColumn specification\u001b[22m \u001b[36m────────────────────────────────────────────────────────\u001b[39m\n",
      "\u001b[1mDelimiter:\u001b[22m \";\"\n",
      "\u001b[31mchr\u001b[39m (11): X2, X3, X4, X5, X6, X7, X8, X9, X10, X15, X21\n",
      "\u001b[32mdbl\u001b[39m (10): X1, X11, X12, X13, X14, X16, X17, X18, X19, X20\n",
      "\n",
      "\u001b[36mℹ\u001b[39m Use `spec()` to retrieve the full column specification for this data.\n",
      "\u001b[36mℹ\u001b[39m Specify the column types or set `show_col_types = FALSE` to quiet this message.\n"
     ]
    },
    {
     "data": {
      "text/html": [
       "<table class=\"dataframe\">\n",
       "<caption>A tibble: 6 × 21</caption>\n",
       "<thead>\n",
       "\t<tr><th scope=col>age</th><th scope=col>job</th><th scope=col>marital</th><th scope=col>education</th><th scope=col>default</th><th scope=col>housing</th><th scope=col>loan</th><th scope=col>contact</th><th scope=col>month</th><th scope=col>day_of_week</th><th scope=col>⋯</th><th scope=col>campaign</th><th scope=col>pdays</th><th scope=col>previous</th><th scope=col>poutcome</th><th scope=col>emp_var_rate</th><th scope=col>cons_price_idx</th><th scope=col>cons_conf_idx</th><th scope=col>euribor_3m</th><th scope=col>nr_employed</th><th scope=col>y</th></tr>\n",
       "\t<tr><th scope=col>&lt;dbl&gt;</th><th scope=col>&lt;chr&gt;</th><th scope=col>&lt;chr&gt;</th><th scope=col>&lt;chr&gt;</th><th scope=col>&lt;chr&gt;</th><th scope=col>&lt;chr&gt;</th><th scope=col>&lt;chr&gt;</th><th scope=col>&lt;chr&gt;</th><th scope=col>&lt;chr&gt;</th><th scope=col>&lt;chr&gt;</th><th scope=col>⋯</th><th scope=col>&lt;dbl&gt;</th><th scope=col>&lt;dbl&gt;</th><th scope=col>&lt;dbl&gt;</th><th scope=col>&lt;chr&gt;</th><th scope=col>&lt;dbl&gt;</th><th scope=col>&lt;dbl&gt;</th><th scope=col>&lt;dbl&gt;</th><th scope=col>&lt;dbl&gt;</th><th scope=col>&lt;dbl&gt;</th><th scope=col>&lt;chr&gt;</th></tr>\n",
       "</thead>\n",
       "<tbody>\n",
       "\t<tr><td>56</td><td>housemaid</td><td>married</td><td>basic.4y   </td><td>no     </td><td>no </td><td>no </td><td>telephone</td><td>may</td><td>mon</td><td>⋯</td><td>1</td><td>999</td><td>0</td><td>nonexistent</td><td>1.1</td><td>93.994</td><td>-36.4</td><td>4.857</td><td>5191</td><td>no</td></tr>\n",
       "\t<tr><td>57</td><td>services </td><td>married</td><td>high.school</td><td>unknown</td><td>no </td><td>no </td><td>telephone</td><td>may</td><td>mon</td><td>⋯</td><td>1</td><td>999</td><td>0</td><td>nonexistent</td><td>1.1</td><td>93.994</td><td>-36.4</td><td>4.857</td><td>5191</td><td>no</td></tr>\n",
       "\t<tr><td>37</td><td>services </td><td>married</td><td>high.school</td><td>no     </td><td>yes</td><td>no </td><td>telephone</td><td>may</td><td>mon</td><td>⋯</td><td>1</td><td>999</td><td>0</td><td>nonexistent</td><td>1.1</td><td>93.994</td><td>-36.4</td><td>4.857</td><td>5191</td><td>no</td></tr>\n",
       "\t<tr><td>40</td><td>admin.   </td><td>married</td><td>basic.6y   </td><td>no     </td><td>no </td><td>no </td><td>telephone</td><td>may</td><td>mon</td><td>⋯</td><td>1</td><td>999</td><td>0</td><td>nonexistent</td><td>1.1</td><td>93.994</td><td>-36.4</td><td>4.857</td><td>5191</td><td>no</td></tr>\n",
       "\t<tr><td>56</td><td>services </td><td>married</td><td>high.school</td><td>no     </td><td>no </td><td>yes</td><td>telephone</td><td>may</td><td>mon</td><td>⋯</td><td>1</td><td>999</td><td>0</td><td>nonexistent</td><td>1.1</td><td>93.994</td><td>-36.4</td><td>4.857</td><td>5191</td><td>no</td></tr>\n",
       "\t<tr><td>45</td><td>services </td><td>married</td><td>basic.9y   </td><td>unknown</td><td>no </td><td>no </td><td>telephone</td><td>may</td><td>mon</td><td>⋯</td><td>1</td><td>999</td><td>0</td><td>nonexistent</td><td>1.1</td><td>93.994</td><td>-36.4</td><td>4.857</td><td>5191</td><td>no</td></tr>\n",
       "</tbody>\n",
       "</table>\n"
      ],
      "text/latex": [
       "A tibble: 6 × 21\n",
       "\\begin{tabular}{lllllllllllllllllllll}\n",
       " age & job & marital & education & default & housing & loan & contact & month & day\\_of\\_week & ⋯ & campaign & pdays & previous & poutcome & emp\\_var\\_rate & cons\\_price\\_idx & cons\\_conf\\_idx & euribor\\_3m & nr\\_employed & y\\\\\n",
       " <dbl> & <chr> & <chr> & <chr> & <chr> & <chr> & <chr> & <chr> & <chr> & <chr> & ⋯ & <dbl> & <dbl> & <dbl> & <chr> & <dbl> & <dbl> & <dbl> & <dbl> & <dbl> & <chr>\\\\\n",
       "\\hline\n",
       "\t 56 & housemaid & married & basic.4y    & no      & no  & no  & telephone & may & mon & ⋯ & 1 & 999 & 0 & nonexistent & 1.1 & 93.994 & -36.4 & 4.857 & 5191 & no\\\\\n",
       "\t 57 & services  & married & high.school & unknown & no  & no  & telephone & may & mon & ⋯ & 1 & 999 & 0 & nonexistent & 1.1 & 93.994 & -36.4 & 4.857 & 5191 & no\\\\\n",
       "\t 37 & services  & married & high.school & no      & yes & no  & telephone & may & mon & ⋯ & 1 & 999 & 0 & nonexistent & 1.1 & 93.994 & -36.4 & 4.857 & 5191 & no\\\\\n",
       "\t 40 & admin.    & married & basic.6y    & no      & no  & no  & telephone & may & mon & ⋯ & 1 & 999 & 0 & nonexistent & 1.1 & 93.994 & -36.4 & 4.857 & 5191 & no\\\\\n",
       "\t 56 & services  & married & high.school & no      & no  & yes & telephone & may & mon & ⋯ & 1 & 999 & 0 & nonexistent & 1.1 & 93.994 & -36.4 & 4.857 & 5191 & no\\\\\n",
       "\t 45 & services  & married & basic.9y    & unknown & no  & no  & telephone & may & mon & ⋯ & 1 & 999 & 0 & nonexistent & 1.1 & 93.994 & -36.4 & 4.857 & 5191 & no\\\\\n",
       "\\end{tabular}\n"
      ],
      "text/markdown": [
       "\n",
       "A tibble: 6 × 21\n",
       "\n",
       "| age &lt;dbl&gt; | job &lt;chr&gt; | marital &lt;chr&gt; | education &lt;chr&gt; | default &lt;chr&gt; | housing &lt;chr&gt; | loan &lt;chr&gt; | contact &lt;chr&gt; | month &lt;chr&gt; | day_of_week &lt;chr&gt; | ⋯ ⋯ | campaign &lt;dbl&gt; | pdays &lt;dbl&gt; | previous &lt;dbl&gt; | poutcome &lt;chr&gt; | emp_var_rate &lt;dbl&gt; | cons_price_idx &lt;dbl&gt; | cons_conf_idx &lt;dbl&gt; | euribor_3m &lt;dbl&gt; | nr_employed &lt;dbl&gt; | y &lt;chr&gt; |\n",
       "|---|---|---|---|---|---|---|---|---|---|---|---|---|---|---|---|---|---|---|---|---|\n",
       "| 56 | housemaid | married | basic.4y    | no      | no  | no  | telephone | may | mon | ⋯ | 1 | 999 | 0 | nonexistent | 1.1 | 93.994 | -36.4 | 4.857 | 5191 | no |\n",
       "| 57 | services  | married | high.school | unknown | no  | no  | telephone | may | mon | ⋯ | 1 | 999 | 0 | nonexistent | 1.1 | 93.994 | -36.4 | 4.857 | 5191 | no |\n",
       "| 37 | services  | married | high.school | no      | yes | no  | telephone | may | mon | ⋯ | 1 | 999 | 0 | nonexistent | 1.1 | 93.994 | -36.4 | 4.857 | 5191 | no |\n",
       "| 40 | admin.    | married | basic.6y    | no      | no  | no  | telephone | may | mon | ⋯ | 1 | 999 | 0 | nonexistent | 1.1 | 93.994 | -36.4 | 4.857 | 5191 | no |\n",
       "| 56 | services  | married | high.school | no      | no  | yes | telephone | may | mon | ⋯ | 1 | 999 | 0 | nonexistent | 1.1 | 93.994 | -36.4 | 4.857 | 5191 | no |\n",
       "| 45 | services  | married | basic.9y    | unknown | no  | no  | telephone | may | mon | ⋯ | 1 | 999 | 0 | nonexistent | 1.1 | 93.994 | -36.4 | 4.857 | 5191 | no |\n",
       "\n"
      ],
      "text/plain": [
       "  age job       marital education   default housing loan contact   month\n",
       "1 56  housemaid married basic.4y    no      no      no   telephone may  \n",
       "2 57  services  married high.school unknown no      no   telephone may  \n",
       "3 37  services  married high.school no      yes     no   telephone may  \n",
       "4 40  admin.    married basic.6y    no      no      no   telephone may  \n",
       "5 56  services  married high.school no      no      yes  telephone may  \n",
       "6 45  services  married basic.9y    unknown no      no   telephone may  \n",
       "  day_of_week ⋯ campaign pdays previous poutcome    emp_var_rate cons_price_idx\n",
       "1 mon         ⋯ 1        999   0        nonexistent 1.1          93.994        \n",
       "2 mon         ⋯ 1        999   0        nonexistent 1.1          93.994        \n",
       "3 mon         ⋯ 1        999   0        nonexistent 1.1          93.994        \n",
       "4 mon         ⋯ 1        999   0        nonexistent 1.1          93.994        \n",
       "5 mon         ⋯ 1        999   0        nonexistent 1.1          93.994        \n",
       "6 mon         ⋯ 1        999   0        nonexistent 1.1          93.994        \n",
       "  cons_conf_idx euribor_3m nr_employed y \n",
       "1 -36.4         4.857      5191        no\n",
       "2 -36.4         4.857      5191        no\n",
       "3 -36.4         4.857      5191        no\n",
       "4 -36.4         4.857      5191        no\n",
       "5 -36.4         4.857      5191        no\n",
       "6 -36.4         4.857      5191        no"
      ]
     },
     "metadata": {},
     "output_type": "display_data"
    }
   ],
   "source": [
    "# Read in the bank data, rename the column name\n",
    "bank_data <- read_delim(\"bank_additional_full.csv\", skip=1, delim = \";\", col_names = FALSE)%>%\n",
    "                rename(age = X1,job = X2, marital = X3, education = X4,  default = X5, housing = X6, loan = X7, contact = X8, \n",
    "                                  month = X9, day_of_week = X10, duration = X11, campaign  =X12, pdays = X13, previous = X14, poutcome = X15, \n",
    "                                  emp_var_rate = X16, cons_price_idx = X17, cons_conf_idx = X18, euribor_3m = X19, nr_employed = X20,\n",
    "                                  y = X21)\n",
    "\n",
    "head(bank_data)"
   ]
  },
  {
   "cell_type": "code",
   "execution_count": null,
   "id": "136eb457-6cd2-4e36-9005-0294e1a5180b",
   "metadata": {},
   "outputs": [
    {
     "name": "stderr",
     "output_type": "stream",
     "text": [
      "`stat_bin()` using `bins = 30`. Pick better value with `binwidth`.\n",
      "\n",
      "`stat_bin()` using `bins = 30`. Pick better value with `binwidth`.\n",
      "\n",
      "`stat_bin()` using `bins = 30`. Pick better value with `binwidth`.\n",
      "\n",
      "`stat_bin()` using `bins = 30`. Pick better value with `binwidth`.\n",
      "\n",
      "`stat_bin()` using `bins = 30`. Pick better value with `binwidth`.\n",
      "\n",
      "`stat_bin()` using `bins = 30`. Pick better value with `binwidth`.\n",
      "\n",
      "`stat_bin()` using `bins = 30`. Pick better value with `binwidth`.\n",
      "\n",
      "`stat_bin()` using `bins = 30`. Pick better value with `binwidth`.\n",
      "\n",
      "`stat_bin()` using `bins = 30`. Pick better value with `binwidth`.\n",
      "\n",
      "`stat_bin()` using `bins = 30`. Pick better value with `binwidth`.\n",
      "\n"
     ]
    }
   ],
   "source": [
    "# Create a ggpairs scatterplot of all the columns we are interested in including in our model\n",
    "options(repr.plot.width = 20, repr.plot.height = 15)\n",
    "bank_data_compare <- bank_data%>%\n",
    "            select(age, duration, campaign, pdays, previous, emp_var_rate, cons_price_idx,cons_conf_idx,euribor_3m,nr_employed,y)%>%\n",
    "            ggpairs(aes(color = y))\n",
    "bank_data_compare "
   ]
  },
  {
   "cell_type": "markdown",
   "id": "68974c5a-2c44-4062-b720-d1f4aa82ccc9",
   "metadata": {},
   "source": [
    "There are no strong relationships between any two explanatory variables in Figure ggpairs, indicating that all explanatory variables meet the standard. "
   ]
  },
  {
   "cell_type": "code",
   "execution_count": null,
   "id": "ea95d522-65be-42f4-8068-de5cea0d40c9",
   "metadata": {},
   "outputs": [],
   "source": [
    "options(repr.plot.width = 20, repr.plot.height = 8)\n",
    "\n",
    "# Create boxplot for all numeric variables\n",
    "# Since for the euribor_3m column the number is too big to visulize we mutate it to log \n",
    "bank_data_mutated<- mutate(bank_data,euribor_3m= log10(as.numeric(euribor_3m)))\n",
    "\n",
    "age_diag_plot <- ggplot(bank_data,aes(y=age,x=y)) +\n",
    "    geom_boxplot()+\n",
    "    labs(x=\"\", y=\"Age\") +\n",
    "    theme(text=element_text(size=16)) +                    \n",
    "    labs(title = \"Figure1 Age vs Yes or No\")+\n",
    "    theme(plot.title = element_text(color = \"red1\"))\n",
    "\n",
    "duration_diag_plot <- ggplot(bank_data,aes(y=duration,x=y)) +\n",
    "    geom_boxplot()+\n",
    "    labs(x=\"\", y=\"duration\") +\n",
    "    theme(text=element_text(size=16)) +                    \n",
    "    labs(title = \"Figure2 Duration vs Yes or No\")+\n",
    "    theme(plot.title = element_text(color = \"sandybrown\"))\n",
    "\n",
    "campaign_diag_plot <- ggplot(bank_data,aes(y=campaign,x=y)) +\n",
    "    geom_boxplot()+\n",
    "    labs(x=\"\", y=\"Number of contacts performed\") +\n",
    "    theme(text=element_text(size=16)) +                    \n",
    "    labs(title = \"Figure3 Campaign vs Yes or No\")+\n",
    "    theme(plot.title = element_text(color = \"lightgoldenrod3\"))\n",
    "\n",
    "combined_diag_plot <- grid.arrange(age_diag_plot,duration_diag_plot,campaign_diag_plot, ncol = 3)\n",
    "\n",
    "pdays_diag_plot <- ggplot(bank_data,aes(y=pdays,x=y)) +\n",
    "    geom_boxplot()+\n",
    "    labs(x=\"\", y=\"Number of days that passed by\") +\n",
    "    theme(text=element_text(size=16)) +                    \n",
    "    labs(title = \"Figure4 Pdays vs Yes or No\")+\n",
    "    theme(plot.title = element_text(color = \"springgreen4\"))+\n",
    "    ylim(997,1001)\n",
    "\n",
    "emp_var_rate_diag_plot <- ggplot(bank_data,aes(y=emp_var_rate,x=y)) +\n",
    "    geom_boxplot()+\n",
    "    labs(x=\"\", y=\"Employment Variation Rate)\") +\n",
    "    theme(text=element_text(size=16)) +                    \n",
    "    labs(title = \"Figure5 Employment Variation Rate vs Yes or No\")+\n",
    "    theme(plot.title = element_text(color = \"aquamarine4\"))\n",
    "\n",
    "cons_price_idx_diag_plot <- ggplot(bank_data,aes(y=cons_price_idx,x=y)) +\n",
    "    geom_boxplot()+\n",
    "    labs(x=\"\", y=\"Consumer Price Index\") +\n",
    "    theme(text=element_text(size=16)) +                    \n",
    "    labs(title = \"Figure6 Consumer Price Index vs Yes or No\")+\n",
    "    theme(plot.title = element_text(color = \"lightskyblue\"))\n",
    "\n",
    "\n",
    "combined_diag_plot_2 <- grid.arrange(pdays_diag_plot,\n",
    "                                     emp_var_rate_diag_plot,\n",
    "                                     cons_price_idx_diag_plot,\n",
    "                                     ncol = 3)\n",
    "\n",
    "cons_conf_idx_diag_plot <- ggplot(bank_data,aes(y=cons_conf_idx,x=y)) +\n",
    "    geom_boxplot()+\n",
    "    labs(x=\"\", y=\"Consumer confidence index\") +\n",
    "    theme(text=element_text(size=16)) +                    \n",
    "    labs(title = \"Figure7 Consumer confidence index vs Yes or No\")+\n",
    "    theme(plot.title = element_text(color = \"mediumpurple2\"))\n",
    "\n",
    "euribor_3m_diag_plot <- ggplot(bank_data_mutated,aes(y=euribor_3m,x=y)) +\n",
    "    geom_boxplot()+\n",
    "    labs(x=\"\", y=\"Euribor 3 month rate\") +\n",
    "    theme(text=element_text(size=16)) +                    \n",
    "    labs(title = \"Figure8 Euribor 3 month rate vs Yes or No\")+\n",
    "    theme(plot.title = element_text(color = \"pink2\"))\n",
    "\n",
    "nr_employed_diag_plot <- ggplot(bank_data,aes(y=nr_employed,x=y)) +\n",
    "    geom_boxplot()+\n",
    "    labs(x=\"\", y=\"Number of employees\") +\n",
    "    theme(text=element_text(size=16)) +                    \n",
    "    labs(title = \"Figure9 Number of employeesvs Yes or No\")+\n",
    "    theme(plot.title = element_text(color = \"violetred\"))+\n",
    "    ylim(4500,6000)\n",
    "\n",
    "combined_diag_plot_3 <- grid.arrange(cons_conf_idx_diag_plot,\n",
    "                                     euribor_3m_diag_plot,\n",
    "                                     nr_employed_diag_plot,\n",
    "                                     ncol = 3)"
   ]
  },
  {
   "cell_type": "markdown",
   "id": "1d2a12b6-402a-406f-97b3-5c22795cbecd",
   "metadata": {},
   "source": [
    "As the y of the bank data varies in the box plots, the distribution of duration differs significantly, indicating that all explanatory variables are related to the responsible variable."
   ]
  },
  {
   "cell_type": "code",
   "execution_count": null,
   "id": "14a86262-4f39-463b-a871-a4a31afd7c53",
   "metadata": {},
   "outputs": [],
   "source": [
    "# Clean and wrangle the data set. Drop irrelevant columns and rows.\n",
    "bank_data_sample <- bank_data %>%\n",
    "                select(y, duration)\n",
    "\n",
    "bank_data_summary <- bank_data_sample %>%\n",
    "                    mutate(y = as.factor(y))%>%\n",
    "                    summary()\n",
    "bank_data_summary"
   ]
  },
  {
   "cell_type": "code",
   "execution_count": null,
   "id": "bfc387d4-d249-4a82-ae5f-f4ef608b4cb2",
   "metadata": {},
   "outputs": [],
   "source": [
    "# Compute number of row\n",
    "number_rows <- bank_data_sample %>%\n",
    "            nrow()\n",
    "\n",
    "\n",
    "# Compute the mean and standard deviation of duration\n",
    "sample_estimates<- bank_data_sample %>%\n",
    "                group_by(y) %>%\n",
    "                summarize(mean = mean(duration),sd = sd(duration))\n",
    "sample_estimates"
   ]
  },
  {
   "cell_type": "code",
   "execution_count": null,
   "id": "14ddf235-d5c6-435e-a604-e6374f988e6b",
   "metadata": {},
   "outputs": [],
   "source": [
    "# Plot the distribution of duration of the two categories\n",
    "options(repr.plot.width = 15, repr.plot.height = 8)\n",
    "sample_mean_distribution <- bank_data_sample %>% \n",
    "                    ggplot(aes(x = duration, fill = y)) +\n",
    "                    geom_histogram(bins = 30, alpha = 0.4)+\n",
    "                    ggtitle(\"Distribution of Duration\")+\n",
    "                    theme(text = element_text(size = 20))+\n",
    "                    geom_vline(data = sample_estimates, aes(xintercept = mean, color = y))\n",
    "\n",
    "sample_mean_distribution "
   ]
  },
  {
   "cell_type": "markdown",
   "id": "5692a886-c223-4670-a9b4-b497b9858cbd",
   "metadata": {},
   "source": [
    "## <img src=\"https://th.bing.com/th/id/R.3849382c629e1a734ac29d79a0656ea2?rik=A6LFA%2bGN%2b07q9Q&riu=http%3a%2f%2fwww.pngmart.com%2ffiles%2f1%2fPhone.png&ehk=DewsIHJL6yqq69NhIyBSqo6A%2fEnade%2boWXdZCaNB03g%3d&risl=&pid=ImgRaw&r=0\" width=30> Methods"
   ]
  },
  {
   "cell_type": "markdown",
   "id": "807e751d-6174-4c9e-a2e7-d76f0c8fc54c",
   "metadata": {},
   "source": [
    "The good thing about this report is the fact that we were able to obtain a good enough dataset for our purpose. We plan to use bootstrapping to obtain our estimate of sampling distribution.\n"
   ]
  },
  {
   "cell_type": "markdown",
   "id": "b76d4f5d-fb09-458c-b285-a07d0affdd50",
   "metadata": {},
   "source": [
    "Hypothesis testing: \n",
    "We want to compare the mean of call duration of successful and failure outcomes. This will give insights on whether call duration should be considered for employee training. \n",
    "In order to achieve our goal, we want to test the null hypothesis H0 against alternative hypothesis H1. We first start by defining the two sample means:"
   ]
  },
  {
   "cell_type": "markdown",
   "id": "8f58ba4d-3eb3-427c-8f5e-1cfa80e0ff3d",
   "metadata": {},
   "source": [
    "m0: mean call duration of successful sessions\n",
    "\n",
    "m1: mean call duration of failed sessions"
   ]
  },
  {
   "cell_type": "markdown",
   "id": "06e598d0-f9fb-4f56-b977-41e37de22052",
   "metadata": {},
   "source": [
    "Then we define the null and alternative hypothesis as follow:\n",
    "\n",
    "H0:  m0 - m1 = 0\n",
    "\n",
    "H1: m0 - m1 > 0"
   ]
  },
  {
   "cell_type": "markdown",
   "id": "38ed5996-1814-41ba-9064-1bf8e8d60587",
   "metadata": {},
   "source": [
    "We plan to use a 90% confidence interval (for a significant level of 0.05) for our hypothesis testing. "
   ]
  },
  {
   "cell_type": "markdown",
   "id": "5db9f329-2df7-4d59-a184-7abcf36ad7b0",
   "metadata": {},
   "source": [
    "We are expecting to reject the null hypothesis, as call duration would likely have an effect on success rate. "
   ]
  },
  {
   "cell_type": "markdown",
   "id": "e48534a7-bc9e-4228-826a-02b6feb1605a",
   "metadata": {},
   "source": [
    "Therefore, we will carry out our analysis as follows:\n",
    "1. Compute the observed mean difference between two groups in terms of call duration\n",
    "2. Simulate bootstrap samples, derive sample mean within each bootstrapped sample to obtain a bootstrap sampling distribution\n",
    "3. Use a right-tailed test to calculate p-value and test it against a significant level of 0.05. \n",
    "4. Finally, we visualize the result, and determine whether we reject the null hypothesis or not. "
   ]
  },
  {
   "cell_type": "markdown",
   "id": "a83595a4-622a-4560-91f9-48b25a70fd67",
   "metadata": {},
   "source": [
    "### Test Statictics"
   ]
  },
  {
   "cell_type": "code",
   "execution_count": null,
   "id": "4d5c14b6-1a63-451c-84e1-be49a31f8acf",
   "metadata": {},
   "outputs": [],
   "source": [
    "# Compute difference in sample means between call duration of a successful outcome and a failure\n",
    "sample_means_diff <- sample_estimates%>%\n",
    "                    select(y, mean)%>%\n",
    "                    pivot_wider(names_from = y, values_from = mean)%>%\n",
    "                    transmute(diff = yes - no)%>%\n",
    "                    pull(diff)\n",
    "sample_means_diff"
   ]
  },
  {
   "cell_type": "markdown",
   "id": "ad125b83-6b11-4284-a7ba-39451efca54e",
   "metadata": {},
   "source": [
    "### Bootstrap sampling distribution"
   ]
  },
  {
   "cell_type": "code",
   "execution_count": null,
   "id": "477bf462-eae6-41c5-b10f-e2a6338ac49c",
   "metadata": {},
   "outputs": [],
   "source": [
    "# Generate the bootstrap sampling distribution\n",
    "set.seed(1000)\n",
    "\n",
    "null_model_bank <- bank_data_sample %>%\n",
    "                specify(formula = duration ~ y) %>% \n",
    "                hypothesize(null = \"independence\") %>% \n",
    "                generate(reps = 500, type = \"permute\") %>% \n",
    "                calculate(stat=\"diff in means\", order = c(\"yes\", \"no\"))\n",
    "\n",
    "head(null_model_bank)"
   ]
  },
  {
   "cell_type": "markdown",
   "id": "8ee31e3d-0e9f-4ff8-a033-8b87291c1548",
   "metadata": {},
   "source": [
    "### P-value and confidence intervals"
   ]
  },
  {
   "cell_type": "code",
   "execution_count": null,
   "id": "2d01593f-e9a2-4343-8a51-fd64a35dddb2",
   "metadata": {},
   "outputs": [],
   "source": [
    "# Compute p value\n",
    "p_value_duration = null_model_bank %>%\n",
    "                    get_p_value(obs_stat = sample_means_diff, direction = \"right\")\n",
    "p_value_duration\n",
    "\n",
    "# Visualize the bootstrap sampling distribution of difference of means of duration with shaded p-value \n",
    "options(repr.plot.width = 15, repr.plot.height = 8)\n",
    "bank_result_plot <- null_model_bank %>%\n",
    "                    visualize() + \n",
    "                    shade_p_value(obs_stat = sample_means_diff, direction = \"right\")+\n",
    "                    theme(text = element_text(size = 20))+\n",
    "                    xlab(\"Difference in mean of duration\")\n",
    "bank_result_plot"
   ]
  },
  {
   "cell_type": "markdown",
   "id": "ee6e8ed6-b53d-4284-b6c7-e32e31e992bf",
   "metadata": {},
   "source": [
    "The null hypothesis is rejected and our test is statistically significant ( the differences between two groups are significant) as the p value is 0."
   ]
  },
  {
   "cell_type": "code",
   "execution_count": null,
   "id": "29b57807-93ac-4335-b628-7b44ebff2175",
   "metadata": {},
   "outputs": [],
   "source": [
    "# Compute the corresponding 90% confidence interval \n",
    "duration_ci_0.9 <- null_model_bank %>%\n",
    "                    get_confidence_interval(level = 0.9)\n",
    "duration_ci_0.9 "
   ]
  },
  {
   "cell_type": "code",
   "execution_count": null,
   "id": "be6702cd-0cea-471f-9417-d34f7e094d74",
   "metadata": {},
   "outputs": [],
   "source": [
    "# Visualize bootstrap sampling distribution of difference of means of duration with shaded 90% confidence interval\n",
    "options(repr.plot.width = 15, repr.plot.height = 8)\n",
    "shade_ci_duration <- null_model_bank %>%\n",
    "                    visualize(bins = 30)+\n",
    "                    shade_confidence_interval(endpoints = duration_ci_0.9 )+\n",
    "                    labs(x = \"Difference in mean of duration\")\n",
    "shade_ci_duration"
   ]
  },
  {
   "cell_type": "markdown",
   "id": "c94bd201-3d91-40d5-a3ef-988ad52ba6da",
   "metadata": {},
   "source": [
    "- We are 90% 90% confident that the interval [-6.798716, 7.366154] contains the population difference of means of duration of successful and failed sessions"
   ]
  },
  {
   "cell_type": "markdown",
   "id": "b2313a6d-7763-4827-b9e2-503047997814",
   "metadata": {},
   "source": [
    "## <img src=\"https://th.bing.com/th/id/R.3849382c629e1a734ac29d79a0656ea2?rik=A6LFA%2bGN%2b07q9Q&riu=http%3a%2f%2fwww.pngmart.com%2ffiles%2f1%2fPhone.png&ehk=DewsIHJL6yqq69NhIyBSqo6A%2fEnade%2boWXdZCaNB03g%3d&risl=&pid=ImgRaw&r=0\" width=30> Reference"
   ]
  },
  {
   "cell_type": "markdown",
   "id": "ec33ce40-e144-4e9f-840a-f47cfeb6b8f6",
   "metadata": {},
   "source": [
    "1.D, Dua, and Graff C. “Bank Marketing Data Set.” UCI Machine Learning Repository, 2019, https://archive.ics.uci.edu/ml/datasets/Bank+Marketing.   \n",
    "2.Moro, Sérgio, et al. “A Data-Driven Approach to Predict the Success of Bank Telemarketing.” Decision Support Systems, North-Holland, 13 Mar. 2014, https://www.sciencedirect.com/science/article/pii/S016792361400061X. "
   ]
  }
 ],
 "metadata": {
  "kernelspec": {
   "display_name": "R",
   "language": "R",
   "name": "ir"
  },
  "language_info": {
   "codemirror_mode": "r",
   "file_extension": ".r",
   "mimetype": "text/x-r-source",
   "name": "R",
   "pygments_lexer": "r",
   "version": "4.0.5"
  }
 },
 "nbformat": 4,
 "nbformat_minor": 5
}
