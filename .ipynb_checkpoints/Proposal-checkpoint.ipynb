{
 "cells": [
  {
   "cell_type": "markdown",
   "id": "ddac4da5-c288-4ac5-9188-7e07672ec133",
   "metadata": {},
   "source": [
    "Title"
   ]
  },
  {
   "cell_type": "markdown",
   "id": "41ef50a3-56d2-43b4-a9c1-4d589b3b3866",
   "metadata": {},
   "source": [
    "Introduction"
   ]
  },
  {
   "cell_type": "markdown",
   "id": "563a62a2-64eb-4e58-aee1-32a8b4884443",
   "metadata": {},
   "source": [
    "Preliminary Results"
   ]
  },
  {
   "cell_type": "markdown",
   "id": "7d447251-e6de-4ae0-8545-dc423c99bb9d",
   "metadata": {},
   "source": [
    "Methods"
   ]
  },
  {
   "cell_type": "markdown",
   "id": "b2313a6d-7763-4827-b9e2-503047997814",
   "metadata": {},
   "source": [
    "Reference"
   ]
  },
  {
   "cell_type": "code",
   "execution_count": null,
   "id": "aac40be3-9d30-45ed-84d9-7bd46271528a",
   "metadata": {},
   "outputs": [],
   "source": []
  }
 ],
 "metadata": {
  "kernelspec": {
   "display_name": "R",
   "language": "R",
   "name": "ir"
  },
  "language_info": {
   "codemirror_mode": "r",
   "file_extension": ".r",
   "mimetype": "text/x-r-source",
   "name": "R",
   "pygments_lexer": "r",
   "version": "4.0.5"
  }
 },
 "nbformat": 4,
 "nbformat_minor": 5
}
