{
 "cells": [
  {
   "cell_type": "markdown",
   "id": "ddac4da5-c288-4ac5-9188-7e07672ec133",
   "metadata": {},
   "source": [
    "Title"
   ]
  },
  {
   "cell_type": "markdown",
   "id": "41ef50a3-56d2-43b4-a9c1-4d589b3b3866",
   "metadata": {},
   "source": [
    "Introduction"
   ]
  },
  {
   "cell_type": "markdown",
   "id": "230d7846-4b05-40e5-8d9a-ed6b7172fdeb",
   "metadata": {},
   "source": [
    "Preliminary Results"
   ]
  },
  {
   "cell_type": "code",
   "execution_count": 1,
   "id": "b56cd6b4-1f58-4934-9efe-8bd249b3c43e",
   "metadata": {},
   "outputs": [
    {
     "name": "stderr",
     "output_type": "stream",
     "text": [
      "── \u001b[1mAttaching packages\u001b[22m ─────────────────────────────────────── tidyverse 1.3.0 ──\n",
      "\n",
      "\u001b[32m✔\u001b[39m \u001b[34mggplot2\u001b[39m 3.3.6     \u001b[32m✔\u001b[39m \u001b[34mpurrr  \u001b[39m 0.3.4\n",
      "\u001b[32m✔\u001b[39m \u001b[34mtibble \u001b[39m 3.1.7     \u001b[32m✔\u001b[39m \u001b[34mdplyr  \u001b[39m 1.0.9\n",
      "\u001b[32m✔\u001b[39m \u001b[34mtidyr  \u001b[39m 1.2.0     \u001b[32m✔\u001b[39m \u001b[34mstringr\u001b[39m 1.4.0\n",
      "\u001b[32m✔\u001b[39m \u001b[34mreadr  \u001b[39m 2.1.2     \u001b[32m✔\u001b[39m \u001b[34mforcats\u001b[39m 0.5.1\n",
      "\n",
      "── \u001b[1mConflicts\u001b[22m ────────────────────────────────────────── tidyverse_conflicts() ──\n",
      "\u001b[31m✖\u001b[39m \u001b[34mdplyr\u001b[39m::\u001b[32mfilter()\u001b[39m masks \u001b[34mstats\u001b[39m::filter()\n",
      "\u001b[31m✖\u001b[39m \u001b[34mdplyr\u001b[39m::\u001b[32mlag()\u001b[39m    masks \u001b[34mstats\u001b[39m::lag()\n",
      "\n",
      "Updating HTML index of packages in '.Library'\n",
      "\n",
      "Making 'packages.html' ...\n",
      " done\n",
      "\n",
      "Loading required package: maditr\n",
      "\n",
      "\n",
      "To drop variable use NULL: let(mtcars, am = NULL) %>% head()\n",
      "\n",
      "\n",
      "\n",
      "Attaching package: ‘maditr’\n",
      "\n",
      "\n",
      "The following objects are masked from ‘package:dplyr’:\n",
      "\n",
      "    between, coalesce, first, last\n",
      "\n",
      "\n",
      "The following object is masked from ‘package:purrr’:\n",
      "\n",
      "    transpose\n",
      "\n",
      "\n",
      "The following object is masked from ‘package:readr’:\n",
      "\n",
      "    cols\n",
      "\n",
      "\n",
      "\n",
      "Attaching package: ‘expss’\n",
      "\n",
      "\n",
      "The following objects are masked from ‘package:stringr’:\n",
      "\n",
      "    fixed, regex\n",
      "\n",
      "\n",
      "The following objects are masked from ‘package:dplyr’:\n",
      "\n",
      "    compute, contains, na_if, recode, vars\n",
      "\n",
      "\n",
      "The following objects are masked from ‘package:purrr’:\n",
      "\n",
      "    keep, modify, modify_if, when\n",
      "\n",
      "\n",
      "The following objects are masked from ‘package:tidyr’:\n",
      "\n",
      "    contains, nest\n",
      "\n",
      "\n",
      "The following object is masked from ‘package:ggplot2’:\n",
      "\n",
      "    vars\n",
      "\n",
      "\n",
      "Registered S3 method overwritten by 'GGally':\n",
      "  method from   \n",
      "  +.gg   ggplot2\n",
      "\n",
      "\n",
      "Attaching package: ‘gridExtra’\n",
      "\n",
      "\n",
      "The following object is masked from ‘package:dplyr’:\n",
      "\n",
      "    combine\n",
      "\n",
      "\n",
      "\n",
      "Attaching package: ‘infer’\n",
      "\n",
      "\n",
      "The following object is masked from ‘package:expss’:\n",
      "\n",
      "    calculate\n",
      "\n",
      "\n"
     ]
    }
   ],
   "source": [
    "# Loaded Libraries\n",
    "library(tidyverse)\n",
    "library(repr)\n",
    "install.packages(\"expss\")\n",
    "library(expss)\n",
    "library(ggplot2)\n",
    "library(GGally)\n",
    "library(\"gridExtra\")\n",
    "library(stringi)\n",
    "library(cowplot)\n",
    "library(digest)\n",
    "library(infer)\n",
    "library(datateachr)"
   ]
  },
  {
   "cell_type": "code",
   "execution_count": 50,
   "id": "04b5ec35-e4b8-4b6a-bac5-29c4d5300455",
   "metadata": {},
   "outputs": [
    {
     "name": "stderr",
     "output_type": "stream",
     "text": [
      "\u001b[36mℹ\u001b[39m Using \u001b[34m\u001b[34m\"','\"\u001b[34m\u001b[39m as decimal and \u001b[34m\u001b[34m\"'.'\"\u001b[34m\u001b[39m as grouping mark. Use `read_delim()` for more control.\n",
      "\n",
      "\u001b[1mRows: \u001b[22m\u001b[34m4119\u001b[39m \u001b[1mColumns: \u001b[22m\u001b[34m21\u001b[39m\n",
      "\u001b[36m──\u001b[39m \u001b[1mColumn specification\u001b[22m \u001b[36m────────────────────────────────────────────────────────\u001b[39m\n",
      "\u001b[1mDelimiter:\u001b[22m \";\"\n",
      "\u001b[31mchr\u001b[39m (12): job, marital, education, default, housing, loan, contact, month, d...\n",
      "\u001b[32mdbl\u001b[39m  (5): age, duration, campaign, pdays, previous\n",
      "\n",
      "\u001b[36mℹ\u001b[39m Use `spec()` to retrieve the full column specification for this data.\n",
      "\u001b[36mℹ\u001b[39m Specify the column types or set `show_col_types = FALSE` to quiet this message.\n"
     ]
    }
   ],
   "source": [
    "bank_link <- \"https://docs.google.com/spreadsheets/d/e/2PACX-1vSJVzL4kjpn0J7YFzjTzCLlUKs0gtGThScWLRnezYxMjR5vE5PvwpHKrxJbKQjQ4AVp7QvS-a06yRFZ/pub?output=csv\"\n",
    "bank_data <- read_csv2(bank_link,                    \n",
    "                        skip=1,\n",
    "                    col_names = c(\"age\",\"job\", \"marital\", \"education\",  \"default\", \"housing\", \"loan\", \"contact\", \n",
    "                                  \"month\", \"day_of_week\", \"duration\",\"campaign\", \"pdays\", \"previous\", \"poutcome\", \n",
    "                                  \"emp_var_rate\", \"cons_price_idx\", \"cons_conf_idx\", \"euribor_3m\", \"nr_employed\",\n",
    "                                  \"y\"))"
   ]
  },
  {
   "cell_type": "code",
   "execution_count": 23,
   "id": "2281ad74-d9b4-42f6-92d3-7fe89c3de1c6",
   "metadata": {},
   "outputs": [],
   "source": [
    "#select the data that we need\n",
    "bank_data_sample <- bank_data %>%\n",
    "                select(y, duration)"
   ]
  },
  {
   "cell_type": "code",
   "execution_count": 51,
   "id": "bfc387d4-d249-4a82-ae5f-f4ef608b4cb2",
   "metadata": {},
   "outputs": [],
   "source": [
    "# Compute sample means\n",
    "sample_means <- bank_data_sample %>%\n",
    "                group_by(y) %>%\n",
    "                summarize(mean = mean(duration))\n",
    "\n",
    "# Compute difference in sample means between call duration of a successful outcome and a failure\n",
    "sample_means_diff <- sample_means%>%\n",
    "                    pivot_wider(names_from = y, values_from = mean)%>%\n",
    "                    transmute(diff = yes - no)\n",
    "\n",
    "number_rows <- bank_data_sample %>%\n",
    "            nrow()\n",
    "\n",
    "# Compute sample standard deviations\n",
    "sample_sd <- bank_data_sample%>%\n",
    "            group_by(y) %>%\n",
    "            summarize(sd = sd(duration))"
   ]
  },
  {
   "cell_type": "code",
   "execution_count": 47,
   "id": "477bf462-eae6-41c5-b10f-e2a6338ac49c",
   "metadata": {},
   "outputs": [],
   "source": [
    "# Bootstrap distribution\n",
    "# Perform the resampling with replacement of n size of from original sample\n",
    "resample_yes <- bank_data_sample %>%\n",
    "            filter(y == \"yes\")%>%\n",
    "            rep_sample_n(size = number_rows, reps = 500, replace = TRUE)\n",
    "\n",
    "# Compute sample mean\n",
    "resample_mean_yes <- resample_yes %>%\n",
    "                 group_by(replicate)%>%\n",
    "                 summarize(mean_yes = mean(duration))\n",
    "\n",
    "# Perform the resampling with replacement of n size of from original sample\n",
    "resample_no <- bank_data_sample %>%\n",
    "            filter(y == \"no\")%>%\n",
    "            rep_sample_n(size = number_rows, reps = 500, replace = TRUE)\n",
    "\n",
    "# Compute sample mean\n",
    "resample_mean_no <- resample_no %>%\n",
    "                 group_by(replicate)%>%\n",
    "                 summarize(mean_no = mean(duration))"
   ]
  },
  {
   "cell_type": "code",
   "execution_count": 49,
   "id": "2d01593f-e9a2-4343-8a51-fd64a35dddb2",
   "metadata": {},
   "outputs": [
    {
     "data": {
      "image/png": "[encoded data removed]",
      "text/plain": [
       "plot without title"
      ]
     },
     "metadata": {
      "image/png": {
       "height": 420,
       "width": 420
      }
     },
     "output_type": "display_data"
    },
    {
     "data": {
      "image/png": "[encoded data removed]",
      "text/plain": [
       "plot without title"
      ]
     },
     "metadata": {
      "image/png": {
       "height": 420,
       "width": 420
      }
     },
     "output_type": "display_data"
    }
   ],
   "source": [
    "# Visualize the variation using a histogram\n",
    "bootstrap_distribution_yes <- resample_mean_yes%>%\n",
    "                            ggplot(aes(x = mean_yes))+\n",
    "                            geom_histogram(bins = 30)+\n",
    "                            ggtitle(\"Bootstrap Sample Distribution of Duration of Successful outcomes\") +\n",
    "                            xlab(\"Duration Bootstrap Mean(s)\")\n",
    "\n",
    "bootstrap_distribution_yes \n",
    "\n",
    "bootstrap_distribution_no <- resample_mean_no%>%\n",
    "                            ggplot(aes(x = mean_no))+\n",
    "                            geom_histogram(bins = 30)+\n",
    "                            ggtitle(\"Bootstrap Sample Distribution of Duration of Failure Outcome\") +\n",
    "                            xlab(\"Duration Bootstrap Mean(s)\")\n",
    "\n",
    "bootstrap_distribution_no "
   ]
  },
  {
   "cell_type": "markdown",
   "id": "7d447251-e6de-4ae0-8545-dc423c99bb9d",
   "metadata": {},
   "source": [
    "Methods"
   ]
  },
  {
   "cell_type": "markdown",
   "id": "b2313a6d-7763-4827-b9e2-503047997814",
   "metadata": {},
   "source": [
    "Reference"
   ]
  }
 ],
 "metadata": {
  "kernelspec": {
   "display_name": "R",
   "language": "R",
   "name": "ir"
  },
  "language_info": {
   "codemirror_mode": "r",
   "file_extension": ".r",
   "mimetype": "text/x-r-source",
   "name": "R",
   "pygments_lexer": "r",
   "version": "4.0.5"
  }
 },
 "nbformat": 4,
 "nbformat_minor": 5
}
