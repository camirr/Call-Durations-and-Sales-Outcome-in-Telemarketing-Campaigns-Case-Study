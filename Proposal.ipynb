{
 "cells": [
  {
   "cell_type": "markdown",
   "id": "ddac4da5-c288-4ac5-9188-7e07672ec133",
   "metadata": {},
   "source": [
    "Title"
   ]
  },
  {
   "cell_type": "markdown",
   "id": "41ef50a3-56d2-43b4-a9c1-4d589b3b3866",
   "metadata": {},
   "source": [
    "Introduction"
   ]
  },
  {
   "cell_type": "markdown",
   "id": "230d7846-4b05-40e5-8d9a-ed6b7172fdeb",
   "metadata": {},
   "source": [
    "1.Importing data"
   ]
  },
  {
   "cell_type": "code",
   "execution_count": 1,
   "id": "b56cd6b4-1f58-4934-9efe-8bd249b3c43e",
   "metadata": {},
   "outputs": [
    {
     "name": "stderr",
     "output_type": "stream",
     "text": [
      "── \u001b[1mAttaching packages\u001b[22m ─────────────────────────────────────── tidyverse 1.3.0 ──\n",
      "\n",
      "\u001b[32m✔\u001b[39m \u001b[34mggplot2\u001b[39m 3.3.6     \u001b[32m✔\u001b[39m \u001b[34mpurrr  \u001b[39m 0.3.4\n",
      "\u001b[32m✔\u001b[39m \u001b[34mtibble \u001b[39m 3.1.7     \u001b[32m✔\u001b[39m \u001b[34mdplyr  \u001b[39m 1.0.9\n",
      "\u001b[32m✔\u001b[39m \u001b[34mtidyr  \u001b[39m 1.2.0     \u001b[32m✔\u001b[39m \u001b[34mstringr\u001b[39m 1.4.0\n",
      "\u001b[32m✔\u001b[39m \u001b[34mreadr  \u001b[39m 2.1.2     \u001b[32m✔\u001b[39m \u001b[34mforcats\u001b[39m 0.5.1\n",
      "\n",
      "── \u001b[1mConflicts\u001b[22m ────────────────────────────────────────── tidyverse_conflicts() ──\n",
      "\u001b[31m✖\u001b[39m \u001b[34mdplyr\u001b[39m::\u001b[32mfilter()\u001b[39m masks \u001b[34mstats\u001b[39m::filter()\n",
      "\u001b[31m✖\u001b[39m \u001b[34mdplyr\u001b[39m::\u001b[32mlag()\u001b[39m    masks \u001b[34mstats\u001b[39m::lag()\n",
      "\n"
     ]
    },
    {
     "ename": "ERROR",
     "evalue": "Error: package or namespace load failed for ‘tidymodels’ in loadNamespace(j <- i[[1L]], c(lib.loc, .libPaths()), versionCheck = vI[[j]]):\n namespace ‘lubridate’ 1.7.10 is already loaded, but >= 1.8.0 is required\n",
     "output_type": "error",
     "traceback": [
      "Error: package or namespace load failed for ‘tidymodels’ in loadNamespace(j <- i[[1L]], c(lib.loc, .libPaths()), versionCheck = vI[[j]]):\n namespace ‘lubridate’ 1.7.10 is already loaded, but >= 1.8.0 is required\nTraceback:\n",
      "1. library(tidymodels)",
      "2. tryCatch({\n .     attr(package, \"LibPath\") <- which.lib.loc\n .     ns <- loadNamespace(package, lib.loc)\n .     env <- attachNamespace(ns, pos = pos, deps, exclude, include.only)\n . }, error = function(e) {\n .     P <- if (!is.null(cc <- conditionCall(e))) \n .         paste(\" in\", deparse(cc)[1L])\n .     else \"\"\n .     msg <- gettextf(\"package or namespace load failed for %s%s:\\n %s\", \n .         sQuote(package), P, conditionMessage(e))\n .     if (logical.return) \n .         message(paste(\"Error:\", msg), domain = NA)\n .     else stop(msg, call. = FALSE, domain = NA)\n . })",
      "3. tryCatchList(expr, classes, parentenv, handlers)",
      "4. tryCatchOne(expr, names, parentenv, handlers[[1L]])",
      "5. value[[3L]](cond)",
      "6. stop(msg, call. = FALSE, domain = NA)"
     ]
    }
   ],
   "source": [
    "# Loaded Libraries\n",
    "\n",
    "library(tidyverse)\n",
    "library(repr)\n",
    "library(tidymodels)\n",
    "library(caret)\n",
    "install.packages(\"expss\")\n",
    "library(expss)\n",
    "library(ggplot2)\n",
    "library(GGally)\n",
    "library(\"gridExtra\")\n",
    "library(stringi)"
   ]
  },
  {
   "cell_type": "code",
   "execution_count": 2,
   "id": "04b5ec35-e4b8-4b6a-bac5-29c4d5300455",
   "metadata": {},
   "outputs": [
    {
     "name": "stderr",
     "output_type": "stream",
     "text": [
      "\u001b[36mℹ\u001b[39m Using \u001b[34m\u001b[34m\"','\"\u001b[34m\u001b[39m as decimal and \u001b[34m\u001b[34m\"'.'\"\u001b[34m\u001b[39m as grouping mark. Use `read_delim()` for more control.\n",
      "\n",
      "\u001b[1mRows: \u001b[22m\u001b[34m4119\u001b[39m \u001b[1mColumns: \u001b[22m\u001b[34m21\u001b[39m\n",
      "\u001b[36m──\u001b[39m \u001b[1mColumn specification\u001b[22m \u001b[36m────────────────────────────────────────────────────────\u001b[39m\n",
      "\u001b[1mDelimiter:\u001b[22m \";\"\n",
      "\u001b[31mchr\u001b[39m (12): job, marital, education, default, housing, loan, contact, month, d...\n",
      "\u001b[32mdbl\u001b[39m  (5): age, duration, campaign, pdays, poutcome\n",
      "\n",
      "\u001b[36mℹ\u001b[39m Use `spec()` to retrieve the full column specification for this data.\n",
      "\u001b[36mℹ\u001b[39m Specify the column types or set `show_col_types = FALSE` to quiet this message.\n"
     ]
    },
    {
     "data": {
      "text/html": [
       "<table class=\"dataframe\">\n",
       "<caption>A tibble: 6 × 21</caption>\n",
       "<thead>\n",
       "\t<tr><th scope=col>age</th><th scope=col>job</th><th scope=col>marital</th><th scope=col>education</th><th scope=col>default</th><th scope=col>housing</th><th scope=col>loan</th><th scope=col>contact</th><th scope=col>month</th><th scope=col>day_of_week</th><th scope=col>⋯</th><th scope=col>campaign</th><th scope=col>pdays</th><th scope=col>poutcome</th><th scope=col>emp.var.rate</th><th scope=col>cons.price.idx</th><th scope=col>cons.conf.idx</th><th scope=col>euribor3m</th><th scope=col>nr.employed</th><th scope=col>y</th><th scope=col>X21</th></tr>\n",
       "\t<tr><th scope=col>&lt;dbl&gt;</th><th scope=col>&lt;chr&gt;</th><th scope=col>&lt;chr&gt;</th><th scope=col>&lt;chr&gt;</th><th scope=col>&lt;chr&gt;</th><th scope=col>&lt;chr&gt;</th><th scope=col>&lt;chr&gt;</th><th scope=col>&lt;chr&gt;</th><th scope=col>&lt;chr&gt;</th><th scope=col>&lt;chr&gt;</th><th scope=col>⋯</th><th scope=col>&lt;dbl&gt;</th><th scope=col>&lt;dbl&gt;</th><th scope=col>&lt;dbl&gt;</th><th scope=col>&lt;chr&gt;</th><th scope=col>&lt;dbl&gt;</th><th scope=col>&lt;dbl&gt;</th><th scope=col>&lt;dbl&gt;</th><th scope=col>&lt;chr&gt;</th><th scope=col>&lt;dbl&gt;</th><th scope=col>&lt;chr&gt;</th></tr>\n",
       "</thead>\n",
       "<tbody>\n",
       "\t<tr><td>30</td><td>blue-collar</td><td>married</td><td>basic.9y         </td><td>no</td><td>yes    </td><td>no     </td><td>cellular </td><td>may</td><td>fri</td><td>⋯</td><td>2</td><td>999</td><td>0</td><td>nonexistent</td><td>-18</td><td>92893</td><td>-462</td><td>1.313</td><td>50991</td><td>no</td></tr>\n",
       "\t<tr><td>39</td><td>services   </td><td>single </td><td>high.school      </td><td>no</td><td>no     </td><td>no     </td><td>telephone</td><td>may</td><td>fri</td><td>⋯</td><td>4</td><td>999</td><td>0</td><td>nonexistent</td><td> 11</td><td>93994</td><td>-364</td><td>4.855</td><td> 5191</td><td>no</td></tr>\n",
       "\t<tr><td>25</td><td>services   </td><td>married</td><td>high.school      </td><td>no</td><td>yes    </td><td>no     </td><td>telephone</td><td>jun</td><td>wed</td><td>⋯</td><td>1</td><td>999</td><td>0</td><td>nonexistent</td><td> 14</td><td>94465</td><td>-418</td><td>4.962</td><td>52281</td><td>no</td></tr>\n",
       "\t<tr><td>38</td><td>services   </td><td>married</td><td>basic.9y         </td><td>no</td><td>unknown</td><td>unknown</td><td>telephone</td><td>jun</td><td>fri</td><td>⋯</td><td>3</td><td>999</td><td>0</td><td>nonexistent</td><td> 14</td><td>94465</td><td>-418</td><td>4.959</td><td>52281</td><td>no</td></tr>\n",
       "\t<tr><td>47</td><td>admin.     </td><td>married</td><td>university.degree</td><td>no</td><td>yes    </td><td>no     </td><td>cellular </td><td>nov</td><td>mon</td><td>⋯</td><td>1</td><td>999</td><td>0</td><td>nonexistent</td><td> -1</td><td>  932</td><td> -42</td><td>4.191</td><td>51958</td><td>no</td></tr>\n",
       "\t<tr><td>32</td><td>services   </td><td>single </td><td>university.degree</td><td>no</td><td>no     </td><td>no     </td><td>cellular </td><td>sep</td><td>thu</td><td>⋯</td><td>3</td><td>999</td><td>2</td><td>failure    </td><td>-11</td><td>94199</td><td>-375</td><td>0.884</td><td>49636</td><td>no</td></tr>\n",
       "</tbody>\n",
       "</table>\n"
      ],
      "text/latex": [
       "A tibble: 6 × 21\n",
       "\\begin{tabular}{lllllllllllllllllllll}\n",
       " age & job & marital & education & default & housing & loan & contact & month & day\\_of\\_week & ⋯ & campaign & pdays & poutcome & emp.var.rate & cons.price.idx & cons.conf.idx & euribor3m & nr.employed & y & X21\\\\\n",
       " <dbl> & <chr> & <chr> & <chr> & <chr> & <chr> & <chr> & <chr> & <chr> & <chr> & ⋯ & <dbl> & <dbl> & <dbl> & <chr> & <dbl> & <dbl> & <dbl> & <chr> & <dbl> & <chr>\\\\\n",
       "\\hline\n",
       "\t 30 & blue-collar & married & basic.9y          & no & yes     & no      & cellular  & may & fri & ⋯ & 2 & 999 & 0 & nonexistent & -18 & 92893 & -462 & 1.313 & 50991 & no\\\\\n",
       "\t 39 & services    & single  & high.school       & no & no      & no      & telephone & may & fri & ⋯ & 4 & 999 & 0 & nonexistent &  11 & 93994 & -364 & 4.855 &  5191 & no\\\\\n",
       "\t 25 & services    & married & high.school       & no & yes     & no      & telephone & jun & wed & ⋯ & 1 & 999 & 0 & nonexistent &  14 & 94465 & -418 & 4.962 & 52281 & no\\\\\n",
       "\t 38 & services    & married & basic.9y          & no & unknown & unknown & telephone & jun & fri & ⋯ & 3 & 999 & 0 & nonexistent &  14 & 94465 & -418 & 4.959 & 52281 & no\\\\\n",
       "\t 47 & admin.      & married & university.degree & no & yes     & no      & cellular  & nov & mon & ⋯ & 1 & 999 & 0 & nonexistent &  -1 &   932 &  -42 & 4.191 & 51958 & no\\\\\n",
       "\t 32 & services    & single  & university.degree & no & no      & no      & cellular  & sep & thu & ⋯ & 3 & 999 & 2 & failure     & -11 & 94199 & -375 & 0.884 & 49636 & no\\\\\n",
       "\\end{tabular}\n"
      ],
      "text/markdown": [
       "\n",
       "A tibble: 6 × 21\n",
       "\n",
       "| age &lt;dbl&gt; | job &lt;chr&gt; | marital &lt;chr&gt; | education &lt;chr&gt; | default &lt;chr&gt; | housing &lt;chr&gt; | loan &lt;chr&gt; | contact &lt;chr&gt; | month &lt;chr&gt; | day_of_week &lt;chr&gt; | ⋯ ⋯ | campaign &lt;dbl&gt; | pdays &lt;dbl&gt; | poutcome &lt;dbl&gt; | emp.var.rate &lt;chr&gt; | cons.price.idx &lt;dbl&gt; | cons.conf.idx &lt;dbl&gt; | euribor3m &lt;dbl&gt; | nr.employed &lt;chr&gt; | y &lt;dbl&gt; | X21 &lt;chr&gt; |\n",
       "|---|---|---|---|---|---|---|---|---|---|---|---|---|---|---|---|---|---|---|---|---|\n",
       "| 30 | blue-collar | married | basic.9y          | no | yes     | no      | cellular  | may | fri | ⋯ | 2 | 999 | 0 | nonexistent | -18 | 92893 | -462 | 1.313 | 50991 | no |\n",
       "| 39 | services    | single  | high.school       | no | no      | no      | telephone | may | fri | ⋯ | 4 | 999 | 0 | nonexistent |  11 | 93994 | -364 | 4.855 |  5191 | no |\n",
       "| 25 | services    | married | high.school       | no | yes     | no      | telephone | jun | wed | ⋯ | 1 | 999 | 0 | nonexistent |  14 | 94465 | -418 | 4.962 | 52281 | no |\n",
       "| 38 | services    | married | basic.9y          | no | unknown | unknown | telephone | jun | fri | ⋯ | 3 | 999 | 0 | nonexistent |  14 | 94465 | -418 | 4.959 | 52281 | no |\n",
       "| 47 | admin.      | married | university.degree | no | yes     | no      | cellular  | nov | mon | ⋯ | 1 | 999 | 0 | nonexistent |  -1 |   932 |  -42 | 4.191 | 51958 | no |\n",
       "| 32 | services    | single  | university.degree | no | no      | no      | cellular  | sep | thu | ⋯ | 3 | 999 | 2 | failure     | -11 | 94199 | -375 | 0.884 | 49636 | no |\n",
       "\n"
      ],
      "text/plain": [
       "  age job         marital education         default housing loan    contact  \n",
       "1 30  blue-collar married basic.9y          no      yes     no      cellular \n",
       "2 39  services    single  high.school       no      no      no      telephone\n",
       "3 25  services    married high.school       no      yes     no      telephone\n",
       "4 38  services    married basic.9y          no      unknown unknown telephone\n",
       "5 47  admin.      married university.degree no      yes     no      cellular \n",
       "6 32  services    single  university.degree no      no      no      cellular \n",
       "  month day_of_week ⋯ campaign pdays poutcome emp.var.rate cons.price.idx\n",
       "1 may   fri         ⋯ 2        999   0        nonexistent  -18           \n",
       "2 may   fri         ⋯ 4        999   0        nonexistent   11           \n",
       "3 jun   wed         ⋯ 1        999   0        nonexistent   14           \n",
       "4 jun   fri         ⋯ 3        999   0        nonexistent   14           \n",
       "5 nov   mon         ⋯ 1        999   0        nonexistent   -1           \n",
       "6 sep   thu         ⋯ 3        999   2        failure      -11           \n",
       "  cons.conf.idx euribor3m nr.employed y     X21\n",
       "1 92893         -462      1.313       50991 no \n",
       "2 93994         -364      4.855        5191 no \n",
       "3 94465         -418      4.962       52281 no \n",
       "4 94465         -418      4.959       52281 no \n",
       "5   932          -42      4.191       51958 no \n",
       "6 94199         -375      0.884       49636 no "
      ]
     },
     "metadata": {},
     "output_type": "display_data"
    }
   ],
   "source": [
    "bank_link<-\"https://docs.google.com/spreadsheets/d/e/2PACX-1vSJVzL4kjpn0J7YFzjTzCLlUKs0gtGThScWLRnezYxMjR5vE5PvwpHKrxJbKQjQ4AVp7QvS-a06yRFZ/pub?output=csv\"\n",
    "bank_data <- read_csv2(bank_link,                    \n",
    "                        skip=1,\n",
    "                    col_names = c(\"age\", \n",
    "                                         \"job\", \n",
    "                                         \"marital\", \n",
    "                                         \"education\", \n",
    "                                         \"default\", \n",
    "                                         \"housing\", \n",
    "                                         \"loan\", \n",
    "                                         \"contact\", \n",
    "                                         \"month\", \n",
    "                                         \"day_of_week\", \n",
    "                                         \"duration\", \n",
    "                                         \"campaign\", \n",
    "                                         \"pdays\", \n",
    "                                         \"poutcome\", \n",
    "                                         \"emp.var.rate\", \n",
    "                                         \"cons.price.idx\",\n",
    "                                          \"cons.conf.idx\",\n",
    "                                       \"euribor3m\",\n",
    "                                       \"nr.employed\",\n",
    "                                         \"y\"))\n",
    "head(bank_data)"
   ]
  },
  {
   "cell_type": "code",
   "execution_count": 3,
   "id": "2281ad74-d9b4-42f6-92d3-7fe89c3de1c6",
   "metadata": {},
   "outputs": [
    {
     "data": {
      "text/html": [
       "<table class=\"dataframe\">\n",
       "<caption>A tibble: 6 × 2</caption>\n",
       "<thead>\n",
       "\t<tr><th scope=col>duration</th><th scope=col>euribor3m</th></tr>\n",
       "\t<tr><th scope=col>&lt;dbl&gt;</th><th scope=col>&lt;dbl&gt;</th></tr>\n",
       "</thead>\n",
       "<tbody>\n",
       "\t<tr><td>487</td><td>-462</td></tr>\n",
       "\t<tr><td>346</td><td>-364</td></tr>\n",
       "\t<tr><td>227</td><td>-418</td></tr>\n",
       "\t<tr><td> 17</td><td>-418</td></tr>\n",
       "\t<tr><td> 58</td><td> -42</td></tr>\n",
       "\t<tr><td>128</td><td>-375</td></tr>\n",
       "</tbody>\n",
       "</table>\n"
      ],
      "text/latex": [
       "A tibble: 6 × 2\n",
       "\\begin{tabular}{ll}\n",
       " duration & euribor3m\\\\\n",
       " <dbl> & <dbl>\\\\\n",
       "\\hline\n",
       "\t 487 & -462\\\\\n",
       "\t 346 & -364\\\\\n",
       "\t 227 & -418\\\\\n",
       "\t  17 & -418\\\\\n",
       "\t  58 &  -42\\\\\n",
       "\t 128 & -375\\\\\n",
       "\\end{tabular}\n"
      ],
      "text/markdown": [
       "\n",
       "A tibble: 6 × 2\n",
       "\n",
       "| duration &lt;dbl&gt; | euribor3m &lt;dbl&gt; |\n",
       "|---|---|\n",
       "| 487 | -462 |\n",
       "| 346 | -364 |\n",
       "| 227 | -418 |\n",
       "|  17 | -418 |\n",
       "|  58 |  -42 |\n",
       "| 128 | -375 |\n",
       "\n"
      ],
      "text/plain": [
       "  duration euribor3m\n",
       "1 487      -462     \n",
       "2 346      -364     \n",
       "3 227      -418     \n",
       "4  17      -418     \n",
       "5  58       -42     \n",
       "6 128      -375     "
      ]
     },
     "metadata": {},
     "output_type": "display_data"
    }
   ],
   "source": [
    "#select the data that we need\n",
    "bank_data1.0<-select(bank_data,duration,euribor3m)\n",
    "head(bank_data1.0)"
   ]
  },
  {
   "cell_type": "code",
   "execution_count": 13,
   "id": "bec907bf-8078-4d17-935a-c270574c8232",
   "metadata": {},
   "outputs": [
    {
     "name": "stderr",
     "output_type": "stream",
     "text": [
      "Updating HTML index of packages in '.Library'\n",
      "\n",
      "Making 'packages.html' ...\n",
      " done\n",
      "\n"
     ]
    }
   ],
   "source": [
    "install.packages(\"expss\")\n",
    "\n",
    "library(expss)"
   ]
  },
  {
   "cell_type": "code",
   "execution_count": null,
   "id": "82db1aaa-5623-4959-9fa1-df3752a8540f",
   "metadata": {},
   "outputs": [],
   "source": [
    "summary(bank_data$duration)\n"
   ]
  },
  {
   "cell_type": "code",
   "execution_count": 10,
   "id": "62f9dd3f-096d-4625-8d3e-9912c472ffc5",
   "metadata": {},
   "outputs": [
    {
     "data": {
      "text/html": [
       "<table class='gmisc_table' style='border-collapse: collapse; margin-top: 1em; margin-bottom: 1em;' >\n",
       "<thead>\n",
       "<tr>\n",
       "<th style='border-top: 2px solid grey;'></th>\n",
       "<th colspan='5' style='font-weight: 900; border-bottom: 1px solid grey; border-top: 2px solid grey; text-align: center;'>&nbsp;Summary Statistics&nbsp;</th>\n",
       "</tr>\n",
       "<tr><th style='border-bottom: 1px solid grey; font-weight: 900; text-align: center;'></th>\n",
       "<th style='font-weight: 900; border-bottom: 1px solid grey; text-align: center;'>&nbsp;Max&nbsp;</th>\n",
       "<th style='font-weight: 900; border-bottom: 1px solid grey; text-align: center;'>&nbsp;Min&nbsp;</th>\n",
       "<th style='font-weight: 900; border-bottom: 1px solid grey; text-align: center;'>&nbsp;Mean&nbsp;</th>\n",
       "<th style='font-weight: 900; border-bottom: 1px solid grey; text-align: center;'>&nbsp;Median&nbsp;</th>\n",
       "<th style='font-weight: 900; border-bottom: 1px solid grey; text-align: center;'>&nbsp;Standand Deviation &nbsp;</th>\n",
       "</tr>\n",
       "</thead>\n",
       "<tbody>\n",
       "<tr>\n",
       "<td style='text-align: left;'>&nbsp;Duration&nbsp;</td>\n",
       "<td style='text-align: right;'>3643</td>\n",
       "<td style='text-align: right;'>0</td>\n",
       "<td style='text-align: right;'>256.8</td>\n",
       "<td style='text-align: right;'>181</td>\n",
       "<td style='text-align: right;'>254.7</td>\n",
       "</tr>\n",
       "<tr>\n",
       "<td style='border-bottom: 2px solid grey; text-align: left;'>&nbsp;Euribor 3 month rate&nbsp;</td>\n",
       "<td style='border-bottom: 2px solid grey; text-align: right;'>-33</td>\n",
       "<td style='border-bottom: 2px solid grey; text-align: right;'>-508</td>\n",
       "<td style='border-bottom: 2px solid grey; text-align: right;'>-363.3</td>\n",
       "<td style='border-bottom: 2px solid grey; text-align: right;'>-398</td>\n",
       "<td style='border-bottom: 2px solid grey; text-align: right;'>121.8</td>\n",
       "</tr>\n",
       "</tbody>\n",
       "</table>"
      ],
      "text/latex": [
       "A etable: 2 × 6\n",
       "\\begin{tabular}{llllll}\n",
       " row\\_labels & Summary Statistics\\textbar{}Max & Summary Statistics\\textbar{}Min & Summary Statistics\\textbar{}Mean & Summary Statistics\\textbar{}Median & Summary Statistics\\textbar{}Standand Deviation \\\\\n",
       " <chr> & <dbl> & <dbl> & <dbl> & <dbl> & <dbl>\\\\\n",
       "\\hline\n",
       "\t Duration             & 3643 &    0 &  256.7881 &  181 & 254.7037\\\\\n",
       "\t Euribor 3 month rate &  -33 & -508 & -363.3122 & -398 & 121.7959\\\\\n",
       "\\end{tabular}\n"
      ],
      "text/markdown": [
       "\n",
       "A etable: 2 × 6\n",
       "\n",
       "| row_labels &lt;chr&gt; | Summary Statistics|Max &lt;dbl&gt; | Summary Statistics|Min &lt;dbl&gt; | Summary Statistics|Mean &lt;dbl&gt; | Summary Statistics|Median &lt;dbl&gt; | Summary Statistics|Standand Deviation  &lt;dbl&gt; |\n",
       "|---|---|---|---|---|---|\n",
       "| Duration             | 3643 |    0 |  256.7881 |  181 | 254.7037 |\n",
       "| Euribor 3 month rate |  -33 | -508 | -363.3122 | -398 | 121.7959 |\n",
       "\n"
      ],
      "text/plain": [
       "                                                                                             \n",
       " |                      | Summary Statistics |      |        |        |                     |\n",
       " |                      |                Max |  Min |   Mean | Median | Standand Deviation  |\n",
       " | -------------------- | ------------------ | ---- | ------ | ------ | ------------------- |\n",
       " |             Duration |               3643 |    0 |  256.8 |    181 |               254.7 |\n",
       " | Euribor 3 month rate |                -33 | -508 | -363.3 |   -398 |               121.8 |"
      ]
     },
     "metadata": {},
     "output_type": "display_data"
    }
   ],
   "source": [
    "summary_data <- apply_labels(bank_data1.0,\n",
    "                             duration= \"Duration\",\n",
    "                            euribor3m = \"Euribor 3 month rate\")\n",
    "                             \n",
    "summary_table <- summary_data %>%\n",
    "                 tab_cells(duration, euribor3m) %>%\n",
    "                 tab_cols(total(label = \"Summary Statistics\"))  %>%\n",
    "                 tab_stat_fun(Max = w_max, Min = w_min, Mean = w_mean, \"Median\" = w_median, \"Standand Deviation \" = w_sd, method = list) %>%\n",
    "                tab_pivot()\n",
    "summary_table"
   ]
  },
  {
   "cell_type": "code",
   "execution_count": null,
   "id": "2a504cf8-48ef-449c-b856-34c2cf92c034",
   "metadata": {},
   "outputs": [],
   "source": []
  },
  {
   "cell_type": "markdown",
   "id": "563a62a2-64eb-4e58-aee1-32a8b4884443",
   "metadata": {},
   "source": [
    "Preliminary Results"
   ]
  },
  {
   "cell_type": "code",
   "execution_count": null,
   "id": "e77d424f-0982-4301-bd8c-c9e629dff3ac",
   "metadata": {},
   "outputs": [],
   "source": []
  },
  {
   "cell_type": "markdown",
   "id": "7d447251-e6de-4ae0-8545-dc423c99bb9d",
   "metadata": {},
   "source": [
    "Methods"
   ]
  },
  {
   "cell_type": "markdown",
   "id": "b2313a6d-7763-4827-b9e2-503047997814",
   "metadata": {},
   "source": [
    "Reference"
   ]
  },
  {
   "cell_type": "code",
   "execution_count": null,
   "id": "aac40be3-9d30-45ed-84d9-7bd46271528a",
   "metadata": {},
   "outputs": [],
   "source": []
  }
 ],
 "metadata": {
  "kernelspec": {
   "display_name": "R",
   "language": "R",
   "name": "ir"
  },
  "language_info": {
   "codemirror_mode": "r",
   "file_extension": ".r",
   "mimetype": "text/x-r-source",
   "name": "R",
   "pygments_lexer": "r",
   "version": "4.0.5"
  }
 },
 "nbformat": 4,
 "nbformat_minor": 5
}
